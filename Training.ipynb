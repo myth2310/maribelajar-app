{
 "cells": [
  {
   "cell_type": "code",
   "execution_count": null,
   "id": "a34905d8-763d-495c-8016-47a203466277",
   "metadata": {},
   "outputs": [],
   "source": [
    "#RECORD DATA\n",
    "\n",
    "import cv2, time\n",
    "camera = 0\n",
    "# membuka webcam\n",
    "video = cv2.VideoCapture(camera, cv2.CAP_DSHOW)\n",
    "# algoritma FR\n",
    "faceDeteksi = cv2.CascadeClassifier('haarcascade_frontalface_default.xml')\n",
    "# mengambil id\n",
    "id = input('Id : ')\n",
    "a = 0\n",
    "while True: \n",
    "    a = a + 1\n",
    "    check, frame = video.read() \n",
    "    # membuat mode pengambilan gambar pada scan menjadi Gray (abu-abu)\n",
    "    abu = cv2.cvtColor(frame, cv2.COLOR_BGR2GRAY)\n",
    "\n",
    "    # Mendeteksi wajah\n",
    "    wajah = faceDeteksi.detectMultiScale(abu,1.3,5)\n",
    "    print(wajah)\n",
    "    for(x,y,w,h) in wajah:\n",
    "        # Membuat file foto ke folder Dataset/ dengan identifikasi Id dan perulangan a\n",
    "        cv2.imwrite('Dataset/User.'+str(id)+'.'+str(a)+'.jpg', abu[y:y+h,x:x+w])\n",
    "        # Mengenali bentuk wajah (kotak warna hijau di wajah)\n",
    "        cv2.rectangle(frame, (x,y),(x+w,y+h), (0,255,0),2)\n",
    "    # Nama Window \n",
    "    cv2.imshow(\"Face Recognation Window\", frame)\n",
    "    # Perulangan dilakukan hingga 30 pengambilan foto\n",
    "    if (a > 9):\n",
    "        break\n",
    "\n",
    "\n",
    "video.release()\n",
    "cv2.destroyAllWindows()"
   ]
  },
  {
   "cell_type": "code",
   "execution_count": 3,
   "id": "d8ff09c5-0443-444c-bf3c-a7abc96b6563",
   "metadata": {},
   "outputs": [],
   "source": [
    "# Mengimport package yang diperlukan\n",
    "import cv2, os\n",
    "import numpy as np\n",
    "from PIL import Image\n",
    "# Membuat variabel recognizer\n",
    "\n",
    "recognizer = cv2.face.LBPHFaceRecognizer_create()\n",
    "# Untuk detector menggunakan file haarcascade_frontalface_default.xml\n",
    "detector = cv2.CascadeClassifier(\"haarcascade_frontalface_default.xml\")\n",
    "# Membuat fungsi dengan  getImagesWithLabels parameter path\n",
    "def getImagesWithLabels(path):\n",
    "    imagePaths=[os.path.join(path,f) for f in os.listdir(path)]\n",
    "    faceSamples=[]\n",
    "    Ids=[]\n",
    "    # for untuk perulangan imagePath yang ada pada imagePaths\n",
    "    for imagePath in imagePaths:\n",
    "        # Image\n",
    "        pilImage=Image.open(imagePath).convert('L')\n",
    "        imageNp=np.array(pilImage,'uint8')\n",
    "        Id=int(os.path.split(imagePath)[-1].split(\".\")[1])\n",
    "        faces=detector.detectMultiScale(imageNp)\n",
    "        for (x,y,w,h) in faces:\n",
    "            faceSamples.append(imageNp[y:y+h,x:x+w])\n",
    "            Ids.append(Id)\n",
    "    # return untuk mengembalikan nilai\n",
    "    return faceSamples, Ids\n",
    "faces, Ids = getImagesWithLabels('Dataset')\n",
    "recognizer.train(faces, np.array(Ids))\n",
    "\n",
    "# Data training disimpan di folder Dataset dengan nama file training.xml\n",
    "recognizer.save('Dataset/training.xml')"
   ]
  }
 ],
 "metadata": {
  "kernelspec": {
   "display_name": "Face-detection",
   "language": "python",
   "name": "face-detection"
  },
  "language_info": {
   "codemirror_mode": {
    "name": "ipython",
    "version": 3
   },
   "file_extension": ".py",
   "mimetype": "text/x-python",
   "name": "python",
   "nbconvert_exporter": "python",
   "pygments_lexer": "ipython3",
   "version": "3.8.5"
  }
 },
 "nbformat": 4,
 "nbformat_minor": 5
}
