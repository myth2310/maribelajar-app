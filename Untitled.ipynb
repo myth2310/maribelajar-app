{
 "cells": [
  {
   "cell_type": "code",
   "execution_count": 7,
   "id": "cb6d78ea-c171-4cac-b997-6892f1a918d8",
   "metadata": {},
   "outputs": [
    {
     "name": "stdout",
     "output_type": "stream",
     "text": [
      "Requirement already satisfied: opencv-python in d:\\project flask\\face-detection\\lib\\site-packages (3.4.15.55)\n",
      "Requirement already satisfied: numpy>=1.17.3 in d:\\project flask\\face-detection\\lib\\site-packages (from opencv-python) (1.24.4)\n",
      "Note: you may need to restart the kernel to use updated packages.\n"
     ]
    },
    {
     "name": "stderr",
     "output_type": "stream",
     "text": [
      "WARNING: You are using pip version 20.1.1; however, version 23.2.1 is available.\n",
      "You should consider upgrading via the 'D:\\Project Flask\\Face-detection\\Scripts\\python.exe -m pip install --upgrade pip' command.\n"
     ]
    }
   ],
   "source": [
    "pip install opencv-python"
   ]
  },
  {
   "cell_type": "code",
   "execution_count": 1,
   "id": "950e50b6-b7cd-4833-8ca8-7ffc761213d4",
   "metadata": {},
   "outputs": [],
   "source": [
    "import cv2\n",
    "\n",
    "# Muat kelasifier wajah dari OpenCV\n",
    "face_cascade = cv2.CascadeClassifier(cv2.data.haarcascades + 'haarcascade_frontalface_default.xml')\n",
    "\n",
    "# Muat klasifikasi mata dari OpenCV\n",
    "eye_cascade = cv2.CascadeClassifier(cv2.data.haarcascades + 'haarcascade_eye.xml')\n",
    "\n",
    "# Muat gambar atau video\n",
    "# Ganti '0' dengan alamat video jika ingin menggunakan video\n",
    "# Ganti 'nama_file_gambar.jpg' dengan nama file gambar jika ingin menggunakan gambar\n",
    "cap = cv2.VideoCapture(0)\n",
    "\n",
    "while True:\n",
    "    # Baca setiap frame dari video\n",
    "    ret, frame = cap.read()\n",
    "    \n",
    "    # Konversi ke grayscale\n",
    "    gray = cv2.cvtColor(frame, cv2.COLOR_BGR2GRAY)\n",
    "    \n",
    "    # Deteksi wajah dalam frame\n",
    "    faces = face_cascade.detectMultiScale(gray, scaleFactor=1.1, minNeighbors=5, minSize=(30, 30))\n",
    "    \n",
    "    # Gambar kotak di sekitar wajah yang terdeteksi\n",
    "    for (x, y, w, h) in faces:\n",
    "        cv2.rectangle(frame, (x, y), (x+w, y+h), (255, 0, 0), 3)\n",
    "    \n",
    "        # Potong area wajah dari frame\n",
    "        roi_gray = gray[y:y+h, x:x+w]\n",
    "        roi_color = frame[y:y+h, x:x+w]\n",
    "    \n",
    "        # Deteksi mata dalam area wajah\n",
    "        eyes = eye_cascade.detectMultiScale(roi_gray)\n",
    "    \n",
    "        for (ex, ey, ew, eh) in eyes:\n",
    "            # Gambar kotak di sekitar mata yang terdeteksi\n",
    "            cv2.rectangle(roi_color, (ex, ey), (ex+ew, ey+eh), (0, 255, 0), 2)\n",
    "    \n",
    "    # Tampilkan hasilnya\n",
    "    cv2.imshow('Face Detection', frame)\n",
    "    \n",
    "    # Keluar dari loop jika tombol 'q' ditekan\n",
    "    if cv2.waitKey(1) & 0xFF == ord('q'):\n",
    "        break\n",
    "\n",
    "# Bebaskan sumber daya\n",
    "cap.release()\n",
    "cv2.destroyAllWindows()\n"
   ]
  },
  {
   "cell_type": "code",
   "execution_count": null,
   "id": "afc197df-f51f-4405-90be-f1109602f45a",
   "metadata": {},
   "outputs": [],
   "source": []
  }
 ],
 "metadata": {
  "kernelspec": {
   "display_name": "Face-detection",
   "language": "python",
   "name": "face-detection"
  },
  "language_info": {
   "codemirror_mode": {
    "name": "ipython",
    "version": 3
   },
   "file_extension": ".py",
   "mimetype": "text/x-python",
   "name": "python",
   "nbconvert_exporter": "python",
   "pygments_lexer": "ipython3",
   "version": "3.8.5"
  }
 },
 "nbformat": 4,
 "nbformat_minor": 5
}
