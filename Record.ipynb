{
 "cells": [
  {
   "cell_type": "code",
   "execution_count": 1,
   "id": "48e7b99a-7b31-476b-bcb4-98608f223575",
   "metadata": {},
   "outputs": [
    {
     "name": "stdin",
     "output_type": "stream",
     "text": [
      "Id :  1\n"
     ]
    },
    {
     "name": "stdout",
     "output_type": "stream",
     "text": [
      "[[260 255 201 201]]\n",
      "[[262 263 196 196]]\n",
      "[[259 262 196 196]]\n",
      "[[256 258 197 197]]\n",
      "[[249 260 201 201]]\n",
      "[[248 258 202 202]]\n",
      "[[243 251 210 210]]\n",
      "[[241 248 214 214]]\n",
      "[[244 254 208 208]]\n",
      "[[245 258 201 201]]\n",
      "[[240 246 217 217]]\n",
      "[[245 252 210 210]]\n",
      "[[243 251 210 210]]\n",
      "[[241 252 210 210]]\n",
      "[[245 256 202 202]]\n",
      "[[244 253 205 205]]\n",
      "[[246 254 205 205]]\n",
      "[[245 255 201 201]]\n",
      "[[244 254 207 207]]\n",
      "[[244 251 210 210]]\n",
      "[[240 251 212 212]]\n",
      "[[240 248 213 213]]\n",
      "[[243 248 212 212]]\n",
      "[[243 249 211 211]]\n",
      "[[243 251 210 210]]\n",
      "[[246 257 201 201]]\n",
      "[[247 263 196 196]]\n",
      "[[244 256 202 202]]\n",
      "[[243 258 203 203]]\n",
      "[[247 254 204 204]]\n"
     ]
    }
   ],
   "source": [
    "import cv2, time\n",
    "camera = 0\n",
    "# membuka webcam\n",
    "video = cv2.VideoCapture(camera, cv2.CAP_DSHOW)\n",
    "# algoritma FR\n",
    "faceDeteksi = cv2.CascadeClassifier('haarcascade_frontalface_default.xml')\n",
    "# mengambil id\n",
    "id = input('Id : ')\n",
    "a = 0\n",
    "while True: \n",
    "    a = a + 1\n",
    "    check, frame = video.read() \n",
    "    # membuat mode pengambilan gambar pada scan menjadi Gray (abu-abu)\n",
    "    abu = cv2.cvtColor(frame, cv2.COLOR_BGR2GRAY)\n",
    "\n",
    "    # Mendeteksi wajah\n",
    "    wajah = faceDeteksi.detectMultiScale(abu,1.3,5)\n",
    "    print(wajah)\n",
    "    for(x,y,w,h) in wajah:\n",
    "        # Membuat file foto ke folder Dataset/ dengan identifikasi Id dan perulangan a\n",
    "        cv2.imwrite('Dataset/User.'+str(id)+'.'+str(a)+'.jpg', abu[y:y+h,x:x+w])\n",
    "        # Mengenali bentuk wajah (kotak warna hijau di wajah)\n",
    "        cv2.rectangle(frame, (x,y),(x+w,y+h), (0,255,0),2)\n",
    "    # Nama Window \n",
    "    cv2.imshow(\"Face Recognation Window\", frame)\n",
    "    # Perulangan dilakukan hingga 30 pengambilan foto\n",
    "    if (a > 29):\n",
    "        break\n",
    "\n",
    "\n",
    "video.release()\n",
    "cv2.destroyAllWindows()"
   ]
  }
 ],
 "metadata": {
  "kernelspec": {
   "display_name": "Face-detection",
   "language": "python",
   "name": "face-detection"
  },
  "language_info": {
   "codemirror_mode": {
    "name": "ipython",
    "version": 3
   },
   "file_extension": ".py",
   "mimetype": "text/x-python",
   "name": "python",
   "nbconvert_exporter": "python",
   "pygments_lexer": "ipython3",
   "version": "3.8.5"
  }
 },
 "nbformat": 4,
 "nbformat_minor": 5
}
